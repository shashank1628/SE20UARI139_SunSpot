{
  "nbformat": 4,
  "nbformat_minor": 0,
  "metadata": {
    "colab": {
      "provenance": [],
      "authorship_tag": "ABX9TyMU4lgq6M4w1M30V9XocfBq",
      "include_colab_link": true
    },
    "kernelspec": {
      "name": "python3",
      "display_name": "Python 3"
    },
    "language_info": {
      "name": "python"
    }
  },
  "cells": [
    {
      "cell_type": "markdown",
      "metadata": {
        "id": "view-in-github",
        "colab_type": "text"
      },
      "source": [
        "<a href=\"https://colab.research.google.com/github/shashank1628/SE20UARI139_SunSpot/blob/main/Untitled12.ipynb\" target=\"_parent\"><img src=\"https://colab.research.google.com/assets/colab-badge.svg\" alt=\"Open In Colab\"/></a>"
      ]
    },
    {
      "cell_type": "code",
      "execution_count": null,
      "metadata": {
        "id": "xoQTYrBeuHl_"
      },
      "outputs": [],
      "source": [
        "import numpy as np\n",
        "import pandas as pd\n",
        "import matplotlib.pyplot as plt\n",
        "from statsmodels.tsa.statespace.sarimax import SARIMAX\n",
        "from statsmodels.graphics.tsaplots import plot_acf, plot_pacf\n",
        "from statsmodels.tsa.stattools import adfuller\n",
        "\n",
        "# Load the sunspot data (you can replace 'sunspots.csv' with your dataset)\n",
        "data = pd.read_csv('sunspots.csv')\n",
        "data['Date'] = pd.to_datetime(data['Date'])\n",
        "data.set_index('Date', inplace=True)\n",
        "\n",
        "# Visualize the sunspot data\n",
        "plt.figure(figsize=(12, 6))\n",
        "plt.plot(data)\n",
        "plt.title('Sunspot Activity Over Time')\n",
        "plt.xlabel('Year')\n",
        "plt.ylabel('Sunspot Count')\n",
        "plt.show()\n",
        "\n",
        "# Check stationarity using ADF test\n",
        "adf_result = adfuller(data['Sunspots'], autolag='AIC')\n",
        "print(\"ADF Statistic:\", adf_result[0])\n",
        "print(\"p-value:\", adf_result[1])\n",
        "\n",
        "# Differencing to make the time series stationary\n",
        "data['Sunspots_diff'] = data['Sunspots'].diff().dropna()\n",
        "\n",
        "# Plot ACF and PACF for model order selection\n",
        "fig, (ax1, ax2) = plt.subplots(2, 1, figsize=(12, 6))\n",
        "plot_acf(data['Sunspots_diff'], ax=ax1, lags=40)\n",
        "plot_pacf(data['Sunspots_diff'], ax=ax2, lags=40)\n",
        "plt.show()\n",
        "\n",
        "# Select SARIMA model order (p, d, q), (P, D, Q, s)\n",
        "p, d, q = 1, 1, 1\n",
        "P, D, Q, s = 1, 1, 1, 11\n",
        "\n",
        "# Create and fit the SARIMA model\n",
        "model = SARIMAX(data['Sunspots'], order=(p, d, q), seasonal_order=(P, D, Q, s))\n",
        "result = model.fit()\n",
        "\n",
        "# Forecast future sunspot activity\n",
        "forecast_period = 50  # Adjust this as needed\n",
        "forecast = result.get_forecast(steps=forecast_period)\n",
        "\n",
        "# Get the forecasted values and confidence intervals\n",
        "forecast_mean = forecast.predicted_mean\n",
        "forecast_conf_int = forecast.conf_int()\n",
        "\n",
        "# Plot the forecasted values\n",
        "plt.figure(figsize=(12, 6))\n",
        "plt.plot(data.index, data['Sunspots'], label='Observed')\n",
        "plt.plot(forecast_mean.index, forecast_mean, color='red', label='Forecast')\n",
        "plt.fill_between(forecast_conf_int.index, forecast_conf_int['lower Sunspots'], forecast_conf_int['upper Sunspots'], color='pink', alpha=0.3)\n",
        "plt.title('Sunspot Activity Forecast')\n",
        "plt.xlabel('Year')\n",
        "plt.ylabel('Sunspot Count')\n",
        "plt.legend()\n",
        "plt.show()\n"
      ]
    }
  ]
}